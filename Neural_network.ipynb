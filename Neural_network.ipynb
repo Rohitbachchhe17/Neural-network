{
  "nbformat": 4,
  "nbformat_minor": 0,
  "metadata": {
    "colab": {
      "private_outputs": true,
      "provenance": [],
      "authorship_tag": "ABX9TyM05/vcaYtNHgA7OvBLgPyB",
      "include_colab_link": true
    },
    "kernelspec": {
      "name": "python3",
      "display_name": "Python 3"
    },
    "language_info": {
      "name": "python"
    }
  },
  "cells": [
    {
      "cell_type": "markdown",
      "metadata": {
        "id": "view-in-github",
        "colab_type": "text"
      },
      "source": [
        "<a href=\"https://colab.research.google.com/github/Rohitbachchhe17/Neural-network/blob/main/Neural_network.ipynb\" target=\"_parent\"><img src=\"https://colab.research.google.com/assets/colab-badge.svg\" alt=\"Open In Colab\"/></a>"
      ]
    },
    {
      "cell_type": "code",
      "execution_count": null,
      "metadata": {
        "id": "32mp346Ui781"
      },
      "outputs": [],
      "source": [
        "\n",
        "# importing Libraries\n",
        "\n",
        "import numpy as np\n",
        "\n",
        "import matplotlib.pyplot as plt\n",
        "\n",
        "from sklearn.neural_network import BernoulliRBM\n",
        "\n",
        "from sklearn.datasets import fetch_openml\n",
        "\n",
        "from sklearn.model_selection import train_test_split\n",
        "\n",
        "from sklearn.linear_model import LogisticRegression\n",
        "\n",
        "from sklearn.metrics import classification_report, accuracy_score"
      ]
    },
    {
      "cell_type": "code",
      "source": [
        "# Load the MNIST dataset\n",
        "\n",
        "mnist = fetch_openml(\"mnist_784\")\n",
        "# Scale pixel values to [0, 1]\n",
        "\n",
        "X = mnist.data / 255.0\n",
        "\n",
        "y = mnist.target.astype(int)"
      ],
      "metadata": {
        "id": "_h2PCHOxi-sV"
      },
      "execution_count": null,
      "outputs": []
    },
    {
      "cell_type": "code",
      "source": [
        "# Split the dataset into training and test sets\n",
        "\n",
        "X_train, X_test, y_train, y_test = train_test_split(\n",
        "\n",
        "    X, y, test_size=0.2, random_state=42)"
      ],
      "metadata": {
        "id": "c1h7pskqjKHJ"
      },
      "execution_count": null,
      "outputs": []
    },
    {
      "cell_type": "code",
      "source": [
        "# Create and configure the BernoulliRBM\n",
        "\n",
        "rbm = BernoulliRBM(n_components=64, learning_rate=0.1,\n",
        "\n",
        "                   n_iter=10, random_state=0, verbose=True)\n",
        "\n",
        "# Fit the RBM to the training data\n",
        "rbm.fit(X_train)"
      ],
      "metadata": {
        "id": "jfOBXLtpjY0u"
      },
      "execution_count": null,
      "outputs": []
    },
    {
      "cell_type": "code",
      "source": [
        "# Transform the training and test data into the hidden representations\n",
        "\n",
        "X_train_encoded = rbm.transform(X_train)\n",
        "\n",
        "X_test_encoded = rbm.transform(X_test)\n",
        "\n",
        "# Train a classifier (Logistic Regression) on the encoded data\n",
        "\n",
        "classifier = LogisticRegression(max_iter=100)\n",
        "classifier.fit(X_train_encoded, y_train)"
      ],
      "metadata": {
        "id": "5jiYACETjgd1"
      },
      "execution_count": null,
      "outputs": []
    },
    {
      "cell_type": "code",
      "source": [
        "# Evaluate the classifier on the test data\n",
        "\n",
        "y_pred = classifier.predict(X_test_encoded)\n",
        "\n",
        "accuracy = accuracy_score(y_test, y_pred)\n",
        "\n",
        "print(\"Classifier Accuracy:\", accuracy)"
      ],
      "metadata": {
        "id": "llZGlC9pjhi_"
      },
      "execution_count": null,
      "outputs": []
    },
    {
      "cell_type": "code",
      "source": [
        "classification_rep = classification_report(y_test, y_pred)\n",
        "\n",
        "print(\"Classification Report:\")\n",
        "\n",
        "print(classification_rep)"
      ],
      "metadata": {
        "id": "2KU73NPwjvN7"
      },
      "execution_count": null,
      "outputs": []
    }
  ]
}